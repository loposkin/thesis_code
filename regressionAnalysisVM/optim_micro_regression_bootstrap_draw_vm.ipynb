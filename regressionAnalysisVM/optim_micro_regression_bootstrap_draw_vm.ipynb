{
 "cells": [
  {
   "cell_type": "code",
   "execution_count": 5,
   "metadata": {
    "collapsed": true
   },
   "outputs": [],
   "source": [
    "import pandas as pd\n",
    "import glob\n",
    "import matplotlib.pyplot as plt\n",
    "import seaborn as sns\n",
    "import matplotlib.backends.backend_pdf\n",
    "sns.set()\n"
   ]
  },
  {
   "cell_type": "code",
   "execution_count": 6,
   "metadata": {
    "collapsed": false,
    "pycharm": {
     "name": "#%%\n"
    }
   },
   "outputs": [],
   "source": [
    "folder_name = \"optim_bootstrapping_10000\"\n",
    "output_folder_name = folder_name + \"_pngs\"\n"
   ]
  },
  {
   "cell_type": "code",
   "execution_count": 7,
   "metadata": {},
   "outputs": [],
   "source": [
    "! mkdir -p {output_folder_name} # type: ignore"
   ]
  },
  {
   "cell_type": "code",
   "execution_count": 8,
   "metadata": {
    "collapsed": false,
    "pycharm": {
     "name": "#%%\n"
    }
   },
   "outputs": [
    {
     "name": "stdout",
     "output_type": "stream",
     "text": [
      "Plotting benchmark BenchmarkIntersectPartialOverlap-items_1000000-2\n",
      "Plotting benchmark BenchmarkStorageAddRows1\n",
      "Plotting benchmark BenchmarkStorageAddRows4\n",
      "Plotting benchmark BenchmarkIntersectPartialOverlap-items_1000-2\n",
      "Plotting benchmark BenchmarkInmemoryPartInitFromRowsWorstCase-2\n",
      "Plotting benchmark BenchmarkRowsUnmarshal-2\n",
      "Plotting benchmark BenchmarkAddMulti-items_10000000-2\n",
      "Plotting benchmark BenchmarkAddMulti-items_1000-2\n",
      "Plotting benchmark BenchmarkMergeBlockStreamsFourSourcesWorstCase-2\n",
      "Plotting benchmark BenchmarkIntersectPartialOverlap-items_10000000-2\n",
      "Plotting benchmark BenchmarkAddMulti-items_10000-2\n",
      "Plotting benchmark BenchmarkIntersectPartialOverlap-items_10000-2\n",
      "Plotting benchmark BenchmarkStorageAddRows3\n",
      "Plotting benchmark bench-index-db-add-tsids\n",
      "Plotting benchmark BenchmarkMergeBlockStreamsFourSourcesBestCase-2\n",
      "Plotting benchmark BenchmarkAddMulti-items_1000000-2\n",
      "Plotting benchmark BenchmarkStorageAddRows2\n",
      "Plotting benchmark BenchmarkIntersectPartialOverlap-items_100000-2\n",
      "Plotting benchmark BenchmarkAddMulti-items_100000-2\n"
     ]
    },
    {
     "data": {
      "text/plain": [
       "<Figure size 432x288 with 0 Axes>"
      ]
     },
     "metadata": {},
     "output_type": "display_data"
    }
   ],
   "source": [
    "%matplotlib inline\n",
    "\n",
    "all_files = glob.glob(folder_name + \"/*\")\n",
    "\n",
    "pdf = matplotlib.backends.backend_pdf.PdfPages(\"output.pdf\")\n",
    "for counter, file in enumerate(all_files):\n",
    "    # Check if it's a csv file\n",
    "    if str(file).endswith(\".csv\"):\n",
    "\n",
    "        df_results = pd.read_csv(file, sep=\";\", usecols=['number','medianPerfChange',\n",
    "                                                         'minSmall', 'maxSmall',\n",
    "                                                         \"minMedium\", \"maxMedium\",\n",
    "                                                         \"minLarge\", \"maxLarge\"], index_col=\"number\")\n",
    "\n",
    "        nameparts=str(file).split(\"/\")\n",
    "        name = nameparts[1]\n",
    "        name = name[:-4]\n",
    "\n",
    "        print(f\"Plotting benchmark {name}\")\n",
    "\n",
    "\n",
    "        #Find % set y-limits\n",
    "        min = -5\n",
    "        max = 5\n",
    "        for min_small in df_results.minSmall.unique():\n",
    "            if min_small < min:\n",
    "                min = min_small\n",
    "\n",
    "        for max_small in df_results.maxSmall.unique():\n",
    "            if max_small > max:\n",
    "                max = max_small\n",
    "\n",
    "\n",
    "        sns.set(style=\"whitegrid\")\n",
    "        axes = plt.axes()\n",
    "        axes.set_ylim([min, max])\n",
    "\n",
    "        plot = sns.lineplot(data=df_results, x=\"number\", y=\"medianPerfChange\", color=\"red\", marker='o').set(xlabel='commit, number', ylabel='relative speedup, %')\n",
    "        plot = sns.lineplot(data=df_results, x=\"number\", y=\"minSmall\", color=\"lightblue\")\n",
    "        plot = sns.lineplot(data=df_results, x=\"number\", y=\"maxSmall\", color=\"lightblue\")\n",
    "        plot = sns.lineplot(data=df_results, x=\"number\", y=\"minMedium\", color=\"dodgerblue\")\n",
    "        plot = sns.lineplot(data=df_results, x=\"number\", y=\"maxMedium\", color=\"dodgerblue\")\n",
    "        plot = sns.lineplot(data=df_results, x=\"number\", y=\"minLarge\", color=\"royalblue\")\n",
    "        plot = sns.lineplot(data=df_results, x=\"number\", y=\"maxLarge\", color=\"royalblue\")\n",
    "        plot.set(ylim=(min, max))\n",
    "        plt.savefig(f'{output_folder_name}/{name}.png')\n",
    "        pdf.savefig()\n",
    "        plt.clf()\n",
    "pdf.close()"
   ]
  }
 ],
 "metadata": {
  "interpreter": {
   "hash": "d66d6b08fe58b329152bac548c9eade7eaa4839341ff9c060dccc73094c59e94"
  },
  "kernelspec": {
   "display_name": "Python 3.8.10 64-bit ('env': venv)",
   "name": "python3"
  },
  "language_info": {
   "codemirror_mode": {
    "name": "ipython",
    "version": 3
   },
   "file_extension": ".py",
   "mimetype": "text/x-python",
   "name": "python",
   "nbconvert_exporter": "python",
   "pygments_lexer": "ipython3",
   "version": "3.8.10"
  }
 },
 "nbformat": 4,
 "nbformat_minor": 2
}
