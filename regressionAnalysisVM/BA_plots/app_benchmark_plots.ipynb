{
 "cells": [
  {
   "cell_type": "markdown",
   "metadata": {},
   "source": [
    "Create table for A/A tests"
   ]
  },
  {
   "cell_type": "code",
   "execution_count": 18,
   "metadata": {},
   "outputs": [],
   "source": [
    "import pandas as pd\n",
    "import matplotlib.pyplot as plt\n",
    "import numpy as np\n",
    "import glob\n",
    "import os\n",
    "import json\n",
    "import seaborn as sns\n",
    "sns.set()\n",
    "sns.set_context(\"paper\")"
   ]
  },
  {
   "cell_type": "code",
   "execution_count": 19,
   "metadata": {},
   "outputs": [],
   "source": [
    "app_bench_result_path = '../../../resultsVM/regressionApp'"
   ]
  },
  {
   "cell_type": "markdown",
   "metadata": {},
   "source": [
    "load data and analyze differences between runs"
   ]
  },
  {
   "cell_type": "code",
   "execution_count": 20,
   "metadata": {},
   "outputs": [],
   "source": [
    "latenciesTypes = ['latenciesInserts1Old', 'latenciesInserts1New',\n",
    "                  'latenciesInserts2Old', 'latenciesInserts2New',\n",
    "                  'latenciesQueries1Old', 'latenciesQueries1New',\n",
    "                  'latenciesQueries2Old', 'latenciesQueries2New']\n"
   ]
  },
  {
   "cell_type": "code",
   "execution_count": 21,
   "metadata": {},
   "outputs": [],
   "source": [
    "def loadLatencies(resultPath):\n",
    "    latenciesDict = {}\n",
    "    for latenciesType in latenciesTypes:\n",
    "        # advisable to use os.path.join as this makes concatenation OS independent\n",
    "        all_files = glob.glob(os.path.join(\n",
    "            resultPath, \"*\", latenciesType + \".csv\"))\n",
    "\n",
    "        df_from_each_file = [pd.read_csv(f, delim_whitespace=True, index_col=0, names=[\n",
    "                                         int(f.split('/')[-2])]) for f in all_files]\n",
    "        df_from_each_file = df_from_each_file[::-1]\n",
    "        df = pd.concat(df_from_each_file, axis=1, copy=True)\n",
    "\n",
    "        df = df.sort_index(axis=1)\n",
    "        latenciesDict[latenciesType] = df\n",
    "    latenciesDict = preprocess_latencies(latenciesDict)\n",
    "\n",
    "    return latenciesDict\n",
    "\n",
    "\n",
    "def preprocess_latencies(latenciesDict):\n",
    "    #Read latency file for both types (old and new)\n",
    "    insertsOld1 = latenciesDict['latenciesInserts1Old']\n",
    "    insertsOld2 = latenciesDict['latenciesInserts2Old']\n",
    "    insertsOld = pd.concat([drop_rows(insertsOld1), drop_rows(insertsOld2)])\n",
    "    latenciesDict['latenciesInsertsOld'] = insertsOld\n",
    "\n",
    "    insertsNew1 =  latenciesDict['latenciesInserts1New']\n",
    "    insertsNew2 = latenciesDict['latenciesInserts2New']\n",
    "    insertsNew = pd.concat([drop_rows(insertsNew1), drop_rows(insertsNew2)])\n",
    "    latenciesDict['latenciesInsertsNew'] = insertsNew\n",
    "\n",
    "\n",
    "    queries1Old = latenciesDict['latenciesQueries1Old']\n",
    "\n",
    "    queries1Old = drop_rows(queries1Old)\n",
    "    \n",
    "\n",
    "    queries2Old = latenciesDict['latenciesQueries2Old']\n",
    "\n",
    "\n",
    "    queries2Old = drop_rows(queries2Old)\n",
    "\n",
    "    queries1New = latenciesDict['latenciesQueries1New']\n",
    "    \n",
    "    queries1New = drop_rows(queries1New)\n",
    "\n",
    "\n",
    "    queries2New = latenciesDict['latenciesQueries2New']\n",
    "\n",
    "    queries2New = drop_rows(queries2New)\n",
    "\n",
    "    return latenciesDict\n",
    "\n",
    "def drop_rows(df: pd.DataFrame)->pd.DataFrame:\n",
    "    num_to_drop_head = int(df.shape[0] * 0.05)\n",
    "    num_to_drop_tail = int(df.shape[0] * 0.2)\n",
    "    df = df.drop(df.tail(num_to_drop_tail).index)\n",
    "    df = df.drop(df.head(num_to_drop_head).index)\n",
    "    return df\n",
    "\n"
   ]
  },
  {
   "cell_type": "code",
   "execution_count": null,
   "metadata": {},
   "outputs": [],
   "source": [
    "\n"
   ]
  },
  {
   "cell_type": "code",
   "execution_count": 22,
   "metadata": {},
   "outputs": [],
   "source": [
    "def relative_speedup(med1, med2): return ((med2/med1)-1)*100\n",
    "\n",
    "def get_relative_speedups(latencies):\n",
    "    relative_speedups = {}\n",
    "    med1=latencies['latenciesInsertsOld'].median(axis=0)\n",
    "    med2=latencies['latenciesInsertsNew'].median(axis=0)\n",
    "\n",
    "    med3=latencies['latenciesQueries1Old'].median(axis=0)\n",
    "    med4=latencies['latenciesQueries1New'].median(axis=0)\n",
    "\n",
    "    med5=latencies['latenciesQueries2Old'].median(axis=0)\n",
    "    med6=latencies['latenciesQueries2New'].median(axis=0)\n",
    "    \n",
    "    \n",
    "    relative_speedups['latenciesInserts'] = relative_speedup(med1,med2)\n",
    "    relative_speedups['latenciesQueries1'] = relative_speedup(med3,med4)\n",
    "    relative_speedups['latenciesQueries2'] = relative_speedup(med5,med6)\n",
    "    \n",
    "    return relative_speedups\n",
    "\n",
    "def aggregate_latencies(runs: list) -> dict:\n",
    "    aggregation = {}\n",
    "\n",
    "    aggregate_on_key(runs, 'latenciesInserts', aggregation)\n",
    "    aggregate_on_key(runs, 'latenciesQueries1', aggregation)\n",
    "    aggregate_on_key(runs, 'latenciesQueries2', aggregation)\n",
    "    \n",
    "    return aggregation\n",
    "\n",
    "\n",
    "    \n",
    "\n",
    "def aggregate_on_key(runs: list, key: str, aggregation: dict) -> dict:\n",
    "    data = []\n",
    "    for run in runs:\n",
    "        med1 = run[key + 'Old'].median()\n",
    "        med2 = run[key + 'New'].median()\n",
    "        data.append(relative_speedup(med1, med2))\n",
    "    data = np.array(data)\n",
    "    aggregation[key] = {}\n",
    "    aggregation[key]['max'] = data.max(axis=0)\n",
    "    aggregation[key]['min'] = data.min(axis=0)\n",
    "    aggregation[key]['med'] = np.median(data, axis=0)\n",
    "\n",
    "    return aggregation\n",
    "\n"
   ]
  },
  {
   "cell_type": "code",
   "execution_count": 23,
   "metadata": {},
   "outputs": [],
   "source": [
    "def plotDistribution(df1, df2):\n",
    "    \n",
    "    \n",
    "    fig, axs = plt.subplots(10, 2, figsize = (15, 30), sharey=True)\n",
    "    plt.suptitle('Relative differences between A1 and A2')\n",
    "    for counter, column in enumerate(df1.columns):\n",
    "        # filter outlier with 90%-quantile\n",
    "        q1 = np.min(df1[column])\n",
    "        q3_old = np.percentile(df1[column],90)\n",
    "        q3_new = np.percentile(df2[column],90)\n",
    "        q3 = np.max([q3_old, q3_new])\n",
    "        \n",
    "        axs[counter, 0].hist(df1[column],range=(q1, q3), density=True, bins=50)\n",
    "        axs[counter, 0].set_title('commit number ' + str(column))\n",
    "        \n",
    "        \n",
    "        axs[counter, 1].hist(df2[column], range=(q1, q3), density=True, bins=50)\n",
    "        axs[counter, 1].set_title('commit number ' + str(column))\n",
    "\n",
    "def plot_boxes(relative_latencies):\n",
    "    fig, axs = plt.subplots(1, 3, figsize = (15,4))\n",
    "    \n",
    "    sns.boxplot(y=relative_latencies['latenciesInserts'], ax=axs[0], showfliers=False).set(\n",
    "        xlabel='Inserts', \n",
    "        ylabel='relative speedup, %'\n",
    "    )\n",
    "\n",
    "    sns.boxplot(y=relative_latencies['latenciesQueries1'], ax=axs[1], showfliers=False).set(\n",
    "        xlabel='First set of queries', \n",
    "        ylabel='relative speedup, %'\n",
    "    )\n",
    "    \n",
    "    sns.boxplot(y=relative_latencies['latenciesQueries2'], ax=axs[2], showfliers=False).set(\n",
    "        xlabel='Second set of queries', \n",
    "        ylabel='relative speedup, %'\n",
    "    )\n",
    "\n",
    "def plotRegressions(aggregation: dict):\n",
    "    \n",
    "    # fig, axs = plt.subplots(1, 3, figsize = (15,4), sharey=True)\n",
    "    axs_titles = ['Inserts', 'First set of queries', 'Second set of queries']\n",
    "    for counter, key in enumerate(['latenciesInserts', 'latenciesQueries1', 'latenciesQueries2']):\n",
    "        plt.plot(aggregation[key]['min'], 'b-')\n",
    "        plt.plot(aggregation[key]['max'], 'b-')\n",
    "        plt.plot(aggregation[key]['med'], 'r-')\n",
    "        plt.axhline(0, color='black',linestyle=\"--\")\n",
    "        # plt.yaxis.set_tick_params(labelbottom=True)\n",
    "        plt.xlabel('commit, number')\n",
    "        plt.ylabel('relative speedup, %')\n",
    "        plt.suptitle(axs_titles[counter])\n",
    "        \n",
    "        plt.savefig('app_regressions/' + key + \".png\", bbox_inches=\"tight\")\n",
    "        plt.clf()\n",
    "\n",
    "\n",
    "\n",
    "    \n",
    "\n",
    "    \n",
    "        "
   ]
  },
  {
   "cell_type": "code",
   "execution_count": 24,
   "metadata": {},
   "outputs": [
    {
     "data": {
      "image/png": "[encoded data removed]",
      "text/plain": [
       "<Figure size 1080x288 with 3 Axes>"
      ]
     },
     "metadata": {},
     "output_type": "display_data"
    }
   ],
   "source": [
    "latencies=loadLatencies(os.path.join(app_bench_result_path, \"runAA\"))\n",
    "relative_latencies = get_relative_speedups(latencies)\n",
    "plot_boxes(relative_latencies)\n",
    "plt.savefig('aa_tests_box_plots.png', bbox_inches=\"tight\")\n",
    "\n",
    "None"
   ]
  },
  {
   "cell_type": "markdown",
   "metadata": {},
   "source": [
    "## Test Run for 5 random commits"
   ]
  },
  {
   "cell_type": "code",
   "execution_count": 25,
   "metadata": {},
   "outputs": [],
   "source": [
    "runs = [loadLatencies(os.path.join(app_bench_result_path, run)) for run in ['run1', 'run2', 'run3']]"
   ]
  },
  {
   "cell_type": "code",
   "execution_count": 26,
   "metadata": {},
   "outputs": [],
   "source": [
    "aggregation = aggregate_latencies(runs)"
   ]
  },
  {
   "cell_type": "code",
   "execution_count": 27,
   "metadata": {},
   "outputs": [
    {
     "data": {
      "text/plain": [
       "<Figure size 432x288 with 0 Axes>"
      ]
     },
     "metadata": {},
     "output_type": "display_data"
    }
   ],
   "source": [
    "!mkdir -p app_regressions\n",
    "plotRegressions(aggregation)"
   ]
  },
  {
   "cell_type": "code",
   "execution_count": null,
   "metadata": {},
   "outputs": [],
   "source": []
  }
 ],
 "metadata": {
  "interpreter": {
   "hash": "925437ec50cbbf1001c8577d3215cc5c145bd20a0ee68f9feba85728ba1f7312"
  },
  "kernelspec": {
   "display_name": "Python 3.8.10 64-bit ('env': venv)",
   "name": "python3"
  },
  "language_info": {
   "codemirror_mode": {
    "name": "ipython",
    "version": 3
   },
   "file_extension": ".py",
   "mimetype": "text/x-python",
   "name": "python",
   "nbconvert_exporter": "python",
   "pygments_lexer": "ipython3",
   "version": "3.8.10"
  }
 },
 "nbformat": 4,
 "nbformat_minor": 5
}
